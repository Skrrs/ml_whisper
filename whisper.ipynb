{
 "cells": [
  {
   "cell_type": "code",
   "execution_count": 1,
   "id": "0801f172",
   "metadata": {
    "scrolled": true
   },
   "outputs": [
    {
     "name": "stdout",
     "output_type": "stream",
     "text": [
      "Collecting git+https://github.com/openai/whisper.git\n",
      "  Cloning https://github.com/openai/whisper.git to /tmp/pip-req-build-9r9tn4av\n",
      "  Running command git clone -q https://github.com/openai/whisper.git /tmp/pip-req-build-9r9tn4av\n",
      "Collecting ffmpeg-python==0.2.0\n",
      "  Using cached ffmpeg_python-0.2.0-py3-none-any.whl (25 kB)\n",
      "Collecting more-itertools\n",
      "  Using cached more_itertools-8.14.0-py3-none-any.whl (52 kB)\n",
      "Collecting numpy\n",
      "  Using cached numpy-1.23.3-cp38-cp38-manylinux_2_17_x86_64.manylinux2014_x86_64.whl (17.1 MB)\n",
      "Collecting torch\n",
      "  Using cached torch-1.12.1-cp38-cp38-manylinux1_x86_64.whl (776.3 MB)\n",
      "Collecting tqdm\n",
      "  Using cached tqdm-4.64.1-py2.py3-none-any.whl (78 kB)\n",
      "Collecting transformers>=4.19.0\n",
      "  Using cached transformers-4.22.2-py3-none-any.whl (4.9 MB)\n",
      "Collecting future\n",
      "  Using cached future-0.18.2.tar.gz (829 kB)\n",
      "Collecting typing-extensions\n",
      "  Using cached typing_extensions-4.3.0-py3-none-any.whl (25 kB)\n",
      "Collecting huggingface-hub<1.0,>=0.9.0\n",
      "  Using cached huggingface_hub-0.10.0-py3-none-any.whl (163 kB)\n",
      "Collecting tokenizers!=0.11.3,<0.13,>=0.11.1\n",
      "  Using cached tokenizers-0.12.1-cp38-cp38-manylinux_2_12_x86_64.manylinux2010_x86_64.whl (6.6 MB)\n",
      "Collecting pyyaml>=5.1\n",
      "  Using cached PyYAML-6.0-cp38-cp38-manylinux_2_5_x86_64.manylinux1_x86_64.manylinux_2_12_x86_64.manylinux2010_x86_64.whl (701 kB)\n",
      "Requirement already satisfied: packaging>=20.0 in ./.whisper/lib/python3.8/site-packages (from transformers>=4.19.0->whisper==1.0) (21.3)\n",
      "Collecting requests\n",
      "  Using cached requests-2.28.1-py3-none-any.whl (62 kB)\n",
      "Collecting regex!=2019.12.17\n",
      "  Using cached regex-2022.9.13-cp38-cp38-manylinux_2_17_x86_64.manylinux2014_x86_64.whl (772 kB)\n",
      "Collecting filelock\n",
      "  Using cached filelock-3.8.0-py3-none-any.whl (10 kB)\n",
      "Requirement already satisfied: pyparsing!=3.0.5,>=2.0.2 in ./.whisper/lib/python3.8/site-packages (from packaging>=20.0->transformers>=4.19.0->whisper==1.0) (3.0.9)\n",
      "Collecting certifi>=2017.4.17\n",
      "  Using cached certifi-2022.9.24-py3-none-any.whl (161 kB)\n",
      "Collecting idna<4,>=2.5\n",
      "  Using cached idna-3.4-py3-none-any.whl (61 kB)\n",
      "Collecting charset-normalizer<3,>=2\n",
      "  Using cached charset_normalizer-2.1.1-py3-none-any.whl (39 kB)\n",
      "Collecting urllib3<1.27,>=1.21.1\n",
      "  Using cached urllib3-1.26.12-py2.py3-none-any.whl (140 kB)\n",
      "Building wheels for collected packages: whisper, future\n",
      "  Building wheel for whisper (setup.py) ... \u001b[?25lerror\n",
      "\u001b[31m  ERROR: Command errored out with exit status 1:\n",
      "   command: /home/juhyeong/whisper/.whisper/bin/python3 -u -c 'import sys, setuptools, tokenize; sys.argv[0] = '\"'\"'/tmp/pip-req-build-9r9tn4av/setup.py'\"'\"'; __file__='\"'\"'/tmp/pip-req-build-9r9tn4av/setup.py'\"'\"';f=getattr(tokenize, '\"'\"'open'\"'\"', open)(__file__);code=f.read().replace('\"'\"'\\r\\n'\"'\"', '\"'\"'\\n'\"'\"');f.close();exec(compile(code, __file__, '\"'\"'exec'\"'\"'))' bdist_wheel -d /tmp/pip-wheel-udzo42h_\n",
      "       cwd: /tmp/pip-req-build-9r9tn4av/\n",
      "  Complete output (6 lines):\n",
      "  usage: setup.py [global_opts] cmd1 [cmd1_opts] [cmd2 [cmd2_opts] ...]\n",
      "     or: setup.py --help [cmd1 cmd2 ...]\n",
      "     or: setup.py --help-commands\n",
      "     or: setup.py cmd --help\n",
      "  \n",
      "  error: invalid command 'bdist_wheel'\n",
      "  ----------------------------------------\u001b[0m\n",
      "\u001b[31m  ERROR: Failed building wheel for whisper\u001b[0m\n",
      "\u001b[?25h  Running setup.py clean for whisper\n",
      "  Building wheel for future (setup.py) ... \u001b[?25lerror\n",
      "\u001b[31m  ERROR: Command errored out with exit status 1:\n",
      "   command: /home/juhyeong/whisper/.whisper/bin/python3 -u -c 'import sys, setuptools, tokenize; sys.argv[0] = '\"'\"'/tmp/pip-install-gwjme2zt/future/setup.py'\"'\"'; __file__='\"'\"'/tmp/pip-install-gwjme2zt/future/setup.py'\"'\"';f=getattr(tokenize, '\"'\"'open'\"'\"', open)(__file__);code=f.read().replace('\"'\"'\\r\\n'\"'\"', '\"'\"'\\n'\"'\"');f.close();exec(compile(code, __file__, '\"'\"'exec'\"'\"'))' bdist_wheel -d /tmp/pip-wheel-2rmu5oly\n",
      "       cwd: /tmp/pip-install-gwjme2zt/future/\n",
      "  Complete output (6 lines):\n",
      "  usage: setup.py [global_opts] cmd1 [cmd1_opts] [cmd2 [cmd2_opts] ...]\n",
      "     or: setup.py --help [cmd1 cmd2 ...]\n",
      "     or: setup.py --help-commands\n",
      "     or: setup.py cmd --help\n",
      "  \n",
      "  error: invalid command 'bdist_wheel'\n",
      "  ----------------------------------------\u001b[0m\n",
      "\u001b[31m  ERROR: Failed building wheel for future\u001b[0m\n",
      "\u001b[?25h  Running setup.py clean for future\n",
      "Failed to build whisper future\n",
      "Installing collected packages: future, ffmpeg-python, more-itertools, numpy, typing-extensions, torch, tqdm, pyyaml, certifi, idna, charset-normalizer, urllib3, requests, filelock, huggingface-hub, tokenizers, regex, transformers, whisper\n",
      "    Running setup.py install for future ... \u001b[?25ldone\n",
      "\u001b[?25h    Running setup.py install for whisper ... \u001b[?25ldone\n",
      "\u001b[?25hSuccessfully installed certifi-2022.9.24 charset-normalizer-2.1.1 ffmpeg-python-0.2.0 filelock-3.8.0 future-0.18.2 huggingface-hub-0.10.0 idna-3.4 more-itertools-8.14.0 numpy-1.23.3 pyyaml-6.0 regex-2022.9.13 requests-2.28.1 tokenizers-0.12.1 torch-1.12.1 tqdm-4.64.1 transformers-4.22.2 typing-extensions-4.3.0 urllib3-1.26.12 whisper-1.0\n",
      "Note: you may need to restart the kernel to use updated packages.\n"
     ]
    }
   ],
   "source": [
    "# pip install git+https://github.com/openai/whisper.git "
   ]
  },
  {
   "cell_type": "code",
   "execution_count": 24,
   "id": "4e48a9af",
   "metadata": {},
   "outputs": [
    {
     "name": "stdout",
     "output_type": "stream",
     "text": [
      "Collecting nlptutti\n",
      "  Using cached nlptutti-0.0.0.6-py3-none-any.whl (10 kB)\n",
      "Requirement already satisfied: jiwer in ./.whisper/lib/python3.8/site-packages (from nlptutti) (2.5.1)\n",
      "Collecting pandas\n",
      "  Using cached pandas-1.5.0-cp38-cp38-manylinux_2_17_x86_64.manylinux2014_x86_64.whl (12.2 MB)\n",
      "Requirement already satisfied: levenshtein==0.20.2 in ./.whisper/lib/python3.8/site-packages (from jiwer->nlptutti) (0.20.2)\n",
      "Collecting pytz>=2020.1\n",
      "  Using cached pytz-2022.4-py2.py3-none-any.whl (500 kB)\n",
      "Requirement already satisfied: numpy>=1.20.3; python_version < \"3.10\" in ./.whisper/lib/python3.8/site-packages (from pandas->nlptutti) (1.23.3)\n",
      "Requirement already satisfied: python-dateutil>=2.8.1 in ./.whisper/lib/python3.8/site-packages (from pandas->nlptutti) (2.8.2)\n",
      "Requirement already satisfied: rapidfuzz<3.0.0,>=2.3.0 in ./.whisper/lib/python3.8/site-packages (from levenshtein==0.20.2->jiwer->nlptutti) (2.11.1)\n",
      "Requirement already satisfied: six>=1.5 in ./.whisper/lib/python3.8/site-packages (from python-dateutil>=2.8.1->pandas->nlptutti) (1.16.0)\n",
      "Installing collected packages: pytz, pandas, nlptutti\n",
      "Successfully installed nlptutti-0.0.0.6 pandas-1.5.0 pytz-2022.4\n",
      "Note: you may need to restart the kernel to use updated packages.\n"
     ]
    }
   ],
   "source": [
    "# pip install nlptutti"
   ]
  },
  {
   "cell_type": "code",
   "execution_count": 25,
   "id": "70c61622",
   "metadata": {},
   "outputs": [],
   "source": [
    "import whisper\n",
    "import nlptutti as metrics"
   ]
  },
  {
   "cell_type": "code",
   "execution_count": 2,
   "id": "cabc1b2f",
   "metadata": {
    "scrolled": true
   },
   "outputs": [],
   "source": [
    "# 모델크기가 클수록 성능은 올라가고 속도는 늦어짐\n",
    "# model = whisper.load_model(\"base\")\n",
    "# model = whisper.load_model(\"small\")\n",
    "# model = whisper.load_model(\"medium\")\n",
    "model = whisper.load_model(\"large\")"
   ]
  },
  {
   "cell_type": "code",
   "execution_count": 26,
   "id": "0492b710",
   "metadata": {},
   "outputs": [],
   "source": [
    "def stt(audio_file, ref, model):\n",
    "    \n",
    "    # load audio and pad/trim it to fit 30 seconds\n",
    "    audio = whisper.load_audio(audio_file)\n",
    "    audio = whisper.pad_or_trim(audio)\n",
    "\n",
    "    # make log-Mel spectrogram and move to the same device as the model\n",
    "    mel = whisper.log_mel_spectrogram(audio).to(model.device)\n",
    "\n",
    "    # decode the audio\n",
    "    options = whisper.DecodingOptions(language=\"Korean\")\n",
    "    result = whisper.decode(model, mel, options)\n",
    "    pred = result.text\n",
    "    _cer = metrics.get_cer(ref, pred)['cer']\n",
    "    \n",
    "    return pred, _cer*100"
   ]
  },
  {
   "cell_type": "code",
   "execution_count": 28,
   "id": "815401e9",
   "metadata": {},
   "outputs": [
    {
     "name": "stdout",
     "output_type": "stream",
     "text": [
      "CER: 0%\n"
     ]
    },
    {
     "data": {
      "text/plain": [
       "('한국에 온 지 벌써 2년 됐어요. 미리 잘 모르지만 아마 내년에까지 여기 있을 거예요.', 0.0)"
      ]
     },
     "execution_count": 28,
     "metadata": {},
     "output_type": "execute_result"
    }
   ],
   "source": [
    "# 정답 text\n",
    "ref = \"한국에 온 지 벌써 2년 됐어요,    미리 잘 모르지만 아마 내년에까지 여기 있을 거예요.\"\n",
    "# audio 파일 경로\n",
    "audio_file = \"audio.wav\"\n",
    "\n",
    "\n",
    "\n",
    "# model_(version) --> version에 b,s,m,l 삽입\n",
    "stt(audio_file, ref, model)"
   ]
  },
  {
   "cell_type": "code",
   "execution_count": 46,
   "id": "c3fc7056",
   "metadata": {},
   "outputs": [],
   "source": []
  }
 ],
 "metadata": {
  "kernelspec": {
   "display_name": "Python 3.8.10 64-bit",
   "language": "python",
   "name": "python3"
  },
  "language_info": {
   "codemirror_mode": {
    "name": "ipython",
    "version": 3
   },
   "file_extension": ".py",
   "mimetype": "text/x-python",
   "name": "python",
   "nbconvert_exporter": "python",
   "pygments_lexer": "ipython3",
   "version": "3.8.10"
  },
  "vscode": {
   "interpreter": {
    "hash": "916dbcbb3f70747c44a77c7bcd40155683ae19c65e1c03b4aa3499c5328201f1"
   }
  }
 },
 "nbformat": 4,
 "nbformat_minor": 5
}
